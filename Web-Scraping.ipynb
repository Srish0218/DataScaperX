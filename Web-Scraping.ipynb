{
 "cells": [
  {
   "cell_type": "markdown",
   "source": [
    "# DataHarvestX"
   ],
   "metadata": {
    "collapsed": false
   },
   "id": "660c8b4205836b2a"
  },
  {
   "cell_type": "code",
   "execution_count": 13,
   "id": "initial_id",
   "metadata": {
    "collapsed": true,
    "ExecuteTime": {
     "end_time": "2024-05-14T09:06:08.942244400Z",
     "start_time": "2024-05-14T09:06:08.919618300Z"
    }
   },
   "outputs": [],
   "source": [
    "from bs4 import BeautifulSoup\n",
    "import requests\n",
    "import time\n"
   ]
  },
  {
   "cell_type": "code",
   "execution_count": 14,
   "outputs": [],
   "source": [
    "URL = input()"
   ],
   "metadata": {
    "collapsed": false,
    "ExecuteTime": {
     "end_time": "2024-05-14T09:06:10.629158100Z",
     "start_time": "2024-05-14T09:06:09.344817200Z"
    }
   },
   "id": "f351215b87944b5d"
  },
  {
   "cell_type": "code",
   "execution_count": 15,
   "outputs": [],
   "source": [
    "headers = {\n",
    "    \"User-Agent\": \"Mozilla/5.0 (Windows NT 10.0; Win64; x64) AppleWebKit/537.36 (KHTML, like Gecko) Chrome/124.0.0.0 Safari/537.36\",\n",
    "    \"Accept-Encoding\": \"gzip, deflate, br, zstd\",\n",
    "    \"Accept\": \"text/html,application/xhtml+xml,application/xml;q=0.9,image/avif,image/webp,image/apng,*/*;q=0.8,application/signed-exchange;v=b3;q=0.7\",\n",
    "    \"Connection\": \"close\",\n",
    "    \"Upgrade-Insecure-Requests\": \"1\"\n",
    "}\n",
    "\n",
    "page = requests.get(URL, headers=headers)\n",
    "soup = BeautifulSoup(page.content, \"html.parser\")\n",
    "\n",
    "# Find title\n",
    "title_element = soup.find('span', class_='VU-ZEz')\n",
    "title = title_element.get_text().strip() if title_element else \"Title not found\"\n",
    "\n",
    "# Find price\n",
    "price_element = soup.find('div', class_='Nx9bqj CxhGGd')\n",
    "price = price_element.get_text().strip() if price_element else \"Price not found\""
   ],
   "metadata": {
    "collapsed": false,
    "ExecuteTime": {
     "end_time": "2024-05-14T09:06:13.092902600Z",
     "start_time": "2024-05-14T09:06:11.232838100Z"
    }
   },
   "id": "697d877f103eb71b"
  },
  {
   "cell_type": "code",
   "execution_count": 16,
   "outputs": [
    {
     "name": "stdout",
     "output_type": "stream",
     "text": [
      "Title: LUX Body Wash, XL Pump, Fragrant Skin Black Orchid Scent & Juniper Oil  (750 ml)\n",
      "Price: ₹239\n"
     ]
    }
   ],
   "source": [
    "print(\"Title:\", title)\n",
    "print(\"Price:\", price)\n"
   ],
   "metadata": {
    "collapsed": false,
    "ExecuteTime": {
     "end_time": "2024-05-14T09:06:13.107701500Z",
     "start_time": "2024-05-14T09:06:13.090587200Z"
    }
   },
   "id": "f5b6e3517f4594e6"
  },
  {
   "cell_type": "code",
   "execution_count": 17,
   "outputs": [
    {
     "name": "stdout",
     "output_type": "stream",
     "text": [
      "2024-05-14\n"
     ]
    }
   ],
   "source": [
    "# Create a Timestamp for your output to track when data was collected\n",
    "import datetime\n",
    "today = datetime.date.today()\n",
    "print(today)"
   ],
   "metadata": {
    "collapsed": false,
    "ExecuteTime": {
     "end_time": "2024-05-14T09:06:13.108704800Z",
     "start_time": "2024-05-14T09:06:13.096996800Z"
    }
   },
   "id": "4893a504600af6ae"
  },
  {
   "cell_type": "code",
   "execution_count": 18,
   "outputs": [],
   "source": [
    "# Create CSV and write headers and data into the file\n",
    "import csv \n",
    "header = ['Title', 'Price', 'Date']\n",
    "data = [title, price, today]   "
   ],
   "metadata": {
    "collapsed": false,
    "ExecuteTime": {
     "end_time": "2024-05-14T09:06:13.124331100Z",
     "start_time": "2024-05-14T09:06:13.107701500Z"
    }
   },
   "id": "5c3b0e8857a7d4e0"
  },
  {
   "cell_type": "code",
   "execution_count": 19,
   "outputs": [
    {
     "name": "stdout",
     "output_type": "stream",
     "text": [
      "                                                Title Price        Date\n",
      "0   LUX Body Wash, XL Pump, Fragrant Skin Black Or...  ₹239  2024-05-14\n",
      "1   LUX Body Wash, XL Pump, Fragrant Skin Black Or...  ₹239  2024-05-14\n",
      "2   LUX Body Wash, XL Pump, Fragrant Skin Black Or...  ₹239  2024-05-14\n",
      "3   LUX Body Wash, XL Pump, Fragrant Skin Black Or...  ₹239  2024-05-14\n",
      "4   LUX Body Wash, XL Pump, Fragrant Skin Black Or...  ₹239  2024-05-14\n",
      "5   LUX Body Wash, XL Pump, Fragrant Skin Black Or...  ₹239  2024-05-14\n",
      "6   LUX Body Wash, XL Pump, Fragrant Skin Black Or...  ₹239  2024-05-14\n",
      "7   LUX Body Wash, XL Pump, Fragrant Skin Black Or...  ₹239  2024-05-14\n",
      "8   LUX Body Wash, XL Pump, Fragrant Skin Black Or...  ₹239  2024-05-14\n",
      "9   LUX Body Wash, XL Pump, Fragrant Skin Black Or...  ₹239  2024-05-14\n",
      "10  LUX Body Wash, XL Pump, Fragrant Skin Black Or...  ₹239  2024-05-14\n",
      "11  LUX Body Wash, XL Pump, Fragrant Skin Black Or...  ₹239  2024-05-14\n",
      "12  LUX Body Wash, XL Pump, Fragrant Skin Black Or...  ₹239  2024-05-14\n"
     ]
    }
   ],
   "source": [
    "import pandas as pd\n",
    "\n",
    "df = pd.read_csv(r'FlipkartWebScraperDataset.csv')\n",
    "\n",
    "print(df)"
   ],
   "metadata": {
    "collapsed": false,
    "ExecuteTime": {
     "end_time": "2024-05-14T09:06:13.193324500Z",
     "start_time": "2024-05-14T09:06:13.115976600Z"
    }
   },
   "id": "e0dab7d9b6df9a68"
  },
  {
   "cell_type": "code",
   "execution_count": 20,
   "outputs": [],
   "source": [
    "with open('FlipkartWebScraperDataset.csv', 'a+', newline='', encoding='UTF8') as f:\n",
    "    writer = csv.writer(f)\n",
    "    writer.writerow(data)"
   ],
   "metadata": {
    "collapsed": false,
    "ExecuteTime": {
     "end_time": "2024-05-14T09:06:13.392736700Z",
     "start_time": "2024-05-14T09:06:13.379585800Z"
    }
   },
   "id": "3e292f14ec4ea809"
  },
  {
   "cell_type": "code",
   "execution_count": 34,
   "outputs": [],
   "source": [
    "def check_price():\n",
    "    headers = {\n",
    "    \"User-Agent\": \"Mozilla/5.0 (Windows NT 10.0; Win64; x64) AppleWebKit/537.36 (KHTML, like Gecko) Chrome/124.0.0.0 Safari/537.36\",\n",
    "    \"Accept-Encoding\": \"gzip, deflate, br, zstd\",\n",
    "    \"Accept\": \"text/html,application/xhtml+xml,application/xml;q=0.9,image/avif,image/webp,image/apng,*/*;q=0.8,application/signed-exchange;v=b3;q=0.7\",\n",
    "    \"Connection\": \"close\",\n",
    "    \"Upgrade-Insecure-Requests\": \"1\"\n",
    "    }\n",
    "\n",
    "    page = requests.get(URL, headers=headers)\n",
    "    soup = BeautifulSoup(page.content, \"html.parser\")\n",
    "\n",
    "# Find title\n",
    "    title_element = soup.find('span', class_='VU-ZEz')\n",
    "    title = title_element.get_text().strip() if title_element else \"Title not found\"\n",
    "\n",
    "# Find price\n",
    "    price_element = soup.find('div', class_='Nx9bqj CxhGGd')\n",
    "    price = price_element.get_text().strip() if price_element else \"Price not found\"\n",
    "    today = datetime.date.today()\n",
    "    header = ['Title', 'Price', 'Date']\n",
    "    data = [title, price, today]   \n",
    "    with open('FlipkartWebScraperDataset.csv', 'a+', newline='', encoding='UTF8') as f:\n",
    "        writer = csv.writer(f)\n",
    "        writer.writerow(data)"
   ],
   "metadata": {
    "collapsed": false,
    "ExecuteTime": {
     "end_time": "2024-05-14T09:22:25.882430300Z",
     "start_time": "2024-05-14T09:22:25.862666900Z"
    }
   },
   "id": "5e6ce480a5a7af3a"
  },
  {
   "cell_type": "code",
   "execution_count": 43,
   "outputs": [],
   "source": [
    "def send_mail1(title, price, URL):\n",
    "    server = smtplib.SMTP_SSL('smtp.gmail.com', 465)\n",
    "    server.ehlo()\n",
    "    server.login('srishtijaitly2002@gmail.com', 'esylrglmynyfwyqc')\n",
    "    \n",
    "    subject = f\"The Product {title} you want is now {price}! Now is your chance to buy!\"\n",
    "    body = (f\"The Product {title} you want is now {price}! Now is your chance to buy! \"\n",
    "            f\"Dear User, This is the moment we have been waiting for. Now is your chance to pick up the product of your dreams. Don't miss it! Link here: {URL}\")\n",
    "    \n",
    "    # Create MIMEText object with UTF-8 encoding\n",
    "    msg = MIMEMultipart()\n",
    "    msg['From'] = 'srishtijaitly2002@gmail.com'\n",
    "    msg['To'] = 'sjaitly0218@gmail.com'\n",
    "    msg['Subject'] = subject\n",
    "    msg.attach(MIMEText(body.encode('utf-8'), 'plain', 'utf-8'))\n",
    "    \n",
    "    # Send email\n",
    "    server.sendmail('srishtijaitly2002@gmail.com', 'sjaitly0218@gmail.com', msg.as_string())\n",
    "    server.quit()\n"
   ],
   "metadata": {
    "collapsed": false,
    "ExecuteTime": {
     "end_time": "2024-05-14T09:28:49.916573900Z",
     "start_time": "2024-05-14T09:28:49.888039300Z"
    }
   },
   "id": "8e1646b6455aa06"
  },
  {
   "cell_type": "code",
   "execution_count": 44,
   "outputs": [],
   "source": [
    "import smtplib\n",
    "from email.mime.text import MIMEText\n",
    "from email.mime.multipart import MIMEMultipart\n",
    "\n",
    "def send_mail2(title, price, URL):\n",
    "    server = smtplib.SMTP_SSL('smtp.gmail.com', 465)\n",
    "    server.ehlo()\n",
    "    server.login('srishtijaitly2002@gmail.com', 'esylrglmynyfwyqc')\n",
    "    \n",
    "    subject = f\"The Product {title} you want is now {price}! Now is your chance to buy!\"\n",
    "    body = (f\"The Product {title} you want is now {price}! Now is your chance to buy! \"\n",
    "            f\"Dear User, This is the moment we have been waiting for. Now is your chance to pick up the product of your dreams. Don't miss it! Link here: {URL}\")\n",
    "    \n",
    "    # Create MIMEText object with UTF-8 encoding\n",
    "    msg = MIMEMultipart()\n",
    "    msg['From'] = 'srishtijaitly2002@gmail.com'\n",
    "    msg['To'] = 'satyampratap007@gmail.com'\n",
    "    msg['Subject'] = subject\n",
    "    msg.attach(MIMEText(body.encode('utf-8'), 'plain', 'utf-8'))\n",
    "    \n",
    "    # Send email\n",
    "    server.sendmail('srishtijaitly2002@gmail.com', 'satyampratap007@gmail.com', msg.as_string())\n",
    "    server.quit()"
   ],
   "metadata": {
    "collapsed": false,
    "ExecuteTime": {
     "end_time": "2024-05-14T09:28:50.236878600Z",
     "start_time": "2024-05-14T09:28:50.225029800Z"
    }
   },
   "id": "39e6a3003c87d776"
  },
  {
   "cell_type": "code",
   "execution_count": 45,
   "outputs": [
    {
     "name": "stdout",
     "output_type": "stream",
     "text": [
      "0\n",
      "1\n",
      "2\n",
      "3\n",
      "4\n",
      "5\n"
     ]
    }
   ],
   "source": [
    "i = 0\n",
    "while(i <= 5):\n",
    "    check_price()\n",
    "    print(i)\n",
    "    i += 1\n",
    "    send_mail1(title, price, URL)\n",
    "    send_mail2(title, price, URL)\n",
    "    time.sleep(1)"
   ],
   "metadata": {
    "collapsed": false,
    "ExecuteTime": {
     "end_time": "2024-05-14T09:29:50.301425400Z",
     "start_time": "2024-05-14T09:28:50.747342100Z"
    }
   },
   "id": "1f2f772245dacd6b"
  },
  {
   "cell_type": "code",
   "execution_count": 46,
   "outputs": [
    {
     "name": "stdout",
     "output_type": "stream",
     "text": [
      "                                                Title Price        Date\n",
      "0   LUX Body Wash, XL Pump, Fragrant Skin Black Or...  ₹239  2024-05-14\n",
      "1   LUX Body Wash, XL Pump, Fragrant Skin Black Or...  ₹239  2024-05-14\n",
      "2   LUX Body Wash, XL Pump, Fragrant Skin Black Or...  ₹239  2024-05-14\n",
      "3   LUX Body Wash, XL Pump, Fragrant Skin Black Or...  ₹239  2024-05-14\n",
      "4   LUX Body Wash, XL Pump, Fragrant Skin Black Or...  ₹239  2024-05-14\n",
      "5   LUX Body Wash, XL Pump, Fragrant Skin Black Or...  ₹239  2024-05-14\n",
      "6   LUX Body Wash, XL Pump, Fragrant Skin Black Or...  ₹239  2024-05-14\n",
      "7   LUX Body Wash, XL Pump, Fragrant Skin Black Or...  ₹239  2024-05-14\n",
      "8   LUX Body Wash, XL Pump, Fragrant Skin Black Or...  ₹239  2024-05-14\n",
      "9   LUX Body Wash, XL Pump, Fragrant Skin Black Or...  ₹239  2024-05-14\n",
      "10  LUX Body Wash, XL Pump, Fragrant Skin Black Or...  ₹239  2024-05-14\n",
      "11  LUX Body Wash, XL Pump, Fragrant Skin Black Or...  ₹239  2024-05-14\n",
      "12  LUX Body Wash, XL Pump, Fragrant Skin Black Or...  ₹239  2024-05-14\n",
      "13  LUX Body Wash, XL Pump, Fragrant Skin Black Or...  ₹239  2024-05-14\n",
      "14  LUX Body Wash, XL Pump, Fragrant Skin Black Or...  ₹239  2024-05-14\n",
      "15  LUX Body Wash, XL Pump, Fragrant Skin Black Or...  ₹239  2024-05-14\n",
      "16  LUX Body Wash, XL Pump, Fragrant Skin Black Or...  ₹239  2024-05-14\n",
      "17  LUX Body Wash, XL Pump, Fragrant Skin Black Or...  ₹239  2024-05-14\n",
      "18  LUX Body Wash, XL Pump, Fragrant Skin Black Or...  ₹239  2024-05-14\n",
      "19  LUX Body Wash, XL Pump, Fragrant Skin Black Or...  ₹239  2024-05-14\n",
      "20  LUX Body Wash, XL Pump, Fragrant Skin Black Or...  ₹239  2024-05-14\n",
      "21  LUX Body Wash, XL Pump, Fragrant Skin Black Or...  ₹239  2024-05-14\n",
      "22  LUX Body Wash, XL Pump, Fragrant Skin Black Or...  ₹239  2024-05-14\n",
      "23  LUX Body Wash, XL Pump, Fragrant Skin Black Or...  ₹239  2024-05-14\n",
      "24  LUX Body Wash, XL Pump, Fragrant Skin Black Or...  ₹239  2024-05-14\n",
      "25  LUX Body Wash, XL Pump, Fragrant Skin Black Or...  ₹239  2024-05-14\n",
      "26  LUX Body Wash, XL Pump, Fragrant Skin Black Or...  ₹239  2024-05-14\n",
      "27  LUX Body Wash, XL Pump, Fragrant Skin Black Or...  ₹239  2024-05-14\n",
      "28  LUX Body Wash, XL Pump, Fragrant Skin Black Or...  ₹239  2024-05-14\n",
      "29  LUX Body Wash, XL Pump, Fragrant Skin Black Or...  ₹239  2024-05-14\n",
      "30  LUX Body Wash, XL Pump, Fragrant Skin Black Or...  ₹239  2024-05-14\n",
      "31  LUX Body Wash, XL Pump, Fragrant Skin Black Or...  ₹239  2024-05-14\n",
      "32  LUX Body Wash, XL Pump, Fragrant Skin Black Or...  ₹239  2024-05-14\n",
      "33  LUX Body Wash, XL Pump, Fragrant Skin Black Or...  ₹239  2024-05-14\n",
      "34  LUX Body Wash, XL Pump, Fragrant Skin Black Or...  ₹239  2024-05-14\n",
      "35  LUX Body Wash, XL Pump, Fragrant Skin Black Or...  ₹239  2024-05-14\n",
      "36  LUX Body Wash, XL Pump, Fragrant Skin Black Or...  ₹239  2024-05-14\n",
      "37  LUX Body Wash, XL Pump, Fragrant Skin Black Or...  ₹239  2024-05-14\n",
      "38  LUX Body Wash, XL Pump, Fragrant Skin Black Or...  ₹239  2024-05-14\n",
      "39  LUX Body Wash, XL Pump, Fragrant Skin Black Or...  ₹239  2024-05-14\n",
      "40  LUX Body Wash, XL Pump, Fragrant Skin Black Or...  ₹239  2024-05-14\n",
      "41  LUX Body Wash, XL Pump, Fragrant Skin Black Or...  ₹239  2024-05-14\n",
      "42  LUX Body Wash, XL Pump, Fragrant Skin Black Or...  ₹239  2024-05-14\n"
     ]
    }
   ],
   "source": [
    "df = pd.read_csv(r'FlipkartWebScraperDataset.csv')\n",
    "print(df)"
   ],
   "metadata": {
    "collapsed": false,
    "ExecuteTime": {
     "end_time": "2024-05-14T09:29:50.328182100Z",
     "start_time": "2024-05-14T09:29:50.301425400Z"
    }
   },
   "id": "2e6cf9b8c2c09ab1"
  }
 ],
 "metadata": {
  "kernelspec": {
   "display_name": "Python 3",
   "language": "python",
   "name": "python3"
  },
  "language_info": {
   "codemirror_mode": {
    "name": "ipython",
    "version": 2
   },
   "file_extension": ".py",
   "mimetype": "text/x-python",
   "name": "python",
   "nbconvert_exporter": "python",
   "pygments_lexer": "ipython2",
   "version": "2.7.6"
  }
 },
 "nbformat": 4,
 "nbformat_minor": 5
}
